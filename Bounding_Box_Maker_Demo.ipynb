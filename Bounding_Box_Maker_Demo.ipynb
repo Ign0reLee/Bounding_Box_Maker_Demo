{
 "cells": [
  {
   "cell_type": "code",
   "execution_count": null,
   "metadata": {
    "scrolled": true
   },
   "outputs": [],
   "source": [
    "import cv2\n",
    "import os\n",
    "import numpy as np\n",
    "import tkinter as tk\n",
    "from tkinter.filedialog import askopenfilename\n"
   ]
  },
  {
   "cell_type": "code",
   "execution_count": null,
   "metadata": {},
   "outputs": [],
   "source": [
    "#Global Variables\n",
    "\n",
    "drawing = False #for drawing or not\n",
    "ix,iy = -1,-1\n",
    "Rectangle_all = []#for make new  Rectangle file\n",
    "\n",
    "img = np.zeros((512,512,3), np.uint8)#Initialize Images"
   ]
  },
  {
   "cell_type": "code",
   "execution_count": null,
   "metadata": {},
   "outputs": [],
   "source": [
    "def draw_Square(event, x,y, flags, param):\n",
    "    #Draw Function\n",
    "    #If you left mouse button down start to follow your mouse and checked drawing rectangle starting point\n",
    "    #and if your's button up end to follow your mouse and drawing last point\n",
    "    global ix,iy, drawing, Rectangle_all\n",
    "    \n",
    "    if event == cv2.EVENT_LBUTTONDOWN:\n",
    "        drawing = True\n",
    "        ix, iy = x,y\n",
    "        \n",
    "#     elif event == cv2.EVENT_MOUSEMOVE:\n",
    "#         if drawing == True:\n",
    "#             cv2.rectangle(img, (ix,iy),(x,y), (0,0,255), 3)\n",
    "            \n",
    "    elif event == cv2.EVENT_LBUTTONUP:\n",
    "        drawing = False\n",
    "        \n",
    "        cv2.rectangle(img, (ix, iy), (x,y), (0,0,255), 1)\n",
    "        \n",
    "        label = input()\n",
    "        Rectangle_all.append([label, ix, iy, x - ix,y - iy])"
   ]
  },
  {
   "cell_type": "code",
   "execution_count": null,
   "metadata": {},
   "outputs": [],
   "source": [
    "def load_image():\n",
    "    global filename, img, Rectangle_all\n",
    "    \n",
    "\n",
    "    Rectangle_all = []# Initialize list\n",
    "    \n",
    "    tk.Tk().withdraw()\n",
    "    filename = askopenfilename()\n",
    "    if not filename: return None #if doesn't input file out of this function\n",
    "    \n",
    "    #Set path to make Data Save folder\n",
    "    #If you want to change another folder, change path of you wants in parents_filename, and child_filename\n",
    "    filenames = filename.split('/')\n",
    "    parents_filename = './data/' + str(filenames[-3])\n",
    "    child_filename = './data/' + str(filenames[-3]) +'/'+  str(filenames[-2])\n",
    "    \n",
    "    \n",
    "    #Start to make Ground Truth\n",
    "    img = cv2.imread(filename)\n",
    "    cv2.namedWindow('image')\n",
    "    cv2.setMouseCallback('image',draw_Square)\n",
    "\n",
    "    \n",
    "    #Until you push ESC, wait for 1 and retrying check\n",
    "    while True:\n",
    "        \n",
    "        \n",
    "        cv2.imshow('image', img) #Showing update image\n",
    "        k = cv2.waitKey(1) & 0xFF #wait Key\n",
    "\n",
    "        if k == 27: # If you click the ESC, End of make\n",
    "            break\n",
    "     \n",
    "    #If directory doesn't exists in path make directory\n",
    "    if not os.path.exists('./data/'):os.mkdir('./data/')\n",
    "    if not os.path.exists(parents_filename):os.mkdir(parents_filename)\n",
    "    if not os.path.exists(child_filename):os.mkdir(child_filename)\n",
    "    \n",
    "    #Make File or Initialize label folder\n",
    "    #In label follow this form [label, left up x, left up y, width, height]\n",
    "    print(Rectangle_all) #to check your data, If you don't want to see, take off it\n",
    "    f = open(child_filename +'/' +  str(filenames[-1][:-4]) + '.txt', 'w')    \n",
    "    for labels in Rectangle_all:\n",
    "        f.write(str(labels) + '\\n')\n",
    "    f.close()\n",
    "\n",
    "    cv2.destroyAllWindows()"
   ]
  },
  {
   "cell_type": "code",
   "execution_count": null,
   "metadata": {},
   "outputs": [],
   "source": [
    "def quit():\n",
    "    \n",
    "    window.destroy()\n",
    "    window.quit()\n",
    "    \n",
    "    \n",
    "    "
   ]
  },
  {
   "cell_type": "code",
   "execution_count": null,
   "metadata": {},
   "outputs": [],
   "source": [
    "window=tk.Tk()\n",
    "\n",
    "button = tk.Button(window, width=15, command = quit , text = \"quit\")\n",
    "button2 = tk.Button(window, width=15, command = load_image , text = \"file load\")\n",
    "button2.pack()\n",
    "button.pack()\n",
    "\n",
    "\n",
    "window.mainloop()\n"
   ]
  }
 ],
 "metadata": {
  "kernelspec": {
   "display_name": "Python 3",
   "language": "python",
   "name": "python3"
  },
  "language_info": {
   "codemirror_mode": {
    "name": "ipython",
    "version": 3
   },
   "file_extension": ".py",
   "mimetype": "text/x-python",
   "name": "python",
   "nbconvert_exporter": "python",
   "pygments_lexer": "ipython3",
   "version": "3.6.7"
  }
 },
 "nbformat": 4,
 "nbformat_minor": 2
}
